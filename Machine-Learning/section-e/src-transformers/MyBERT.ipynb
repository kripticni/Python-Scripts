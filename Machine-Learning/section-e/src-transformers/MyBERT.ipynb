{
 "cells": [
  {
   "cell_type": "code",
   "execution_count": 1,
   "id": "086ff514-72c5-449b-a16b-cda87d7cc0ab",
   "metadata": {},
   "outputs": [],
   "source": [
    "import os\n",
    "os.environ['TF_CPP_MIN_LOG_LEVEL'] = '2'"
   ]
  },
  {
   "cell_type": "code",
   "execution_count": 2,
   "id": "7144f73d-c96c-4f59-9147-648c7f45ac60",
   "metadata": {},
   "outputs": [
    {
     "name": "stdout",
     "output_type": "stream",
     "text": [
      "Python version: 3.9.18 (main, Sep 11 2023, 13:21:18) \n",
      "[GCC 11.2.0]\n",
      "TensorFlow version: 2.12.1\n",
      "NumPy version: 1.24.3\n"
     ]
    }
   ],
   "source": [
    "import sys\n",
    "import tensorflow as tf\n",
    "import numpy as np\n",
    "\n",
    "print(\"Python version:\", sys.version)\n",
    "print(\"TensorFlow version:\", tf.__version__)\n",
    "print(\"NumPy version:\", np.__version__)"
   ]
  },
  {
   "cell_type": "code",
   "execution_count": 3,
   "id": "a2a7a29a-b943-4c20-b814-1e0d0b1a2031",
   "metadata": {},
   "outputs": [
    {
     "name": "stderr",
     "output_type": "stream",
     "text": [
      "/home/mixie/anaconda3/envs/Env3920Clone/lib/python3.9/site-packages/tqdm/auto.py:21: TqdmWarning: IProgress not found. Please update jupyter and ipywidgets. See https://ipywidgets.readthedocs.io/en/stable/user_install.html\n",
      "  from .autonotebook import tqdm as notebook_tqdm\n"
     ]
    }
   ],
   "source": [
    "import transformers"
   ]
  },
  {
   "cell_type": "code",
   "execution_count": 4,
   "id": "2d7b5893-504f-43fc-b877-dc70792a7353",
   "metadata": {},
   "outputs": [],
   "source": [
    "#pip install numpy==2.0.1"
   ]
  },
  {
   "cell_type": "code",
   "execution_count": 5,
   "id": "3225a9dd-145f-4629-acea-fb37f6afe8db",
   "metadata": {},
   "outputs": [],
   "source": [
    "#pip install TensorFlow --upgrade"
   ]
  },
  {
   "cell_type": "code",
   "execution_count": 6,
   "id": "1c887d29-9850-4af0-b35e-200e832dbe73",
   "metadata": {},
   "outputs": [],
   "source": [
    "#pip install transformers --upgrade"
   ]
  },
  {
   "cell_type": "code",
   "execution_count": 7,
   "id": "5e0ab33d-8535-4baa-a9d8-16f3370f42a3",
   "metadata": {},
   "outputs": [],
   "source": [
    "#pip install NumPy numpy==1.26.4"
   ]
  },
  {
   "cell_type": "code",
   "execution_count": 8,
   "id": "43c8581e-b915-4561-9b90-b48ee20cba5e",
   "metadata": {},
   "outputs": [],
   "source": [
    "#from transformers import logging\n",
    "\n",
    "#logging.set_verbosity_debug()"
   ]
  },
  {
   "cell_type": "code",
   "execution_count": 9,
   "id": "c52dcf51-b5cb-4874-a578-24301c2afa7c",
   "metadata": {},
   "outputs": [],
   "source": [
    "from transformers import pipeline"
   ]
  },
  {
   "cell_type": "code",
   "execution_count": 10,
   "id": "c707b30f-00aa-4a44-904a-bf2bad613da9",
   "metadata": {},
   "outputs": [
    {
     "name": "stderr",
     "output_type": "stream",
     "text": [
      "No model was supplied, defaulted to distilbert-base-uncased-finetuned-sst-2-english and revision af0f99b (https://huggingface.co/distilbert-base-uncased-finetuned-sst-2-english).\n",
      "Using a pipeline without specifying a model name and revision in production is not recommended.\n",
      "/home/mixie/anaconda3/envs/Env3920Clone/lib/python3.9/site-packages/huggingface_hub/file_download.py:1150: FutureWarning: `resume_download` is deprecated and will be removed in version 1.0.0. Downloads always resume when possible. If you want to force a new download, use `force_download=True`.\n",
      "  warnings.warn(\n",
      "All PyTorch model weights were used when initializing TFDistilBertForSequenceClassification.\n",
      "\n",
      "All the weights of TFDistilBertForSequenceClassification were initialized from the PyTorch model.\n",
      "If your task is similar to the task the model of the checkpoint was trained on, you can already use TFDistilBertForSequenceClassification for predictions without further training.\n"
     ]
    }
   ],
   "source": [
    "model_pipeline = pipeline(task=\"sentiment-analysis\")"
   ]
  },
  {
   "cell_type": "code",
   "execution_count": 11,
   "id": "cab4fc82-0ca7-4aaa-88a0-45d846fb636c",
   "metadata": {},
   "outputs": [],
   "source": [
    "#model_pipeline = pipeline(task=\"sentiment-analysis\", model=\"distilbert-base-uncased\")"
   ]
  },
  {
   "cell_type": "code",
   "execution_count": 12,
   "id": "e958a2d2-26d1-4573-860f-5883d4e9fb57",
   "metadata": {},
   "outputs": [],
   "source": [
    "text='i am very happy'"
   ]
  },
  {
   "cell_type": "code",
   "execution_count": 13,
   "id": "007deffc-ad80-4832-8675-304944a4aa7d",
   "metadata": {},
   "outputs": [
    {
     "name": "stdout",
     "output_type": "stream",
     "text": [
      "[{'label': 'POSITIVE', 'score': 0.9998795986175537}]\n"
     ]
    }
   ],
   "source": [
    "print(model_pipeline(text))"
   ]
  },
  {
   "cell_type": "code",
   "execution_count": 14,
   "id": "327a4baa-656d-4c9b-bfd7-a41d3d1205b7",
   "metadata": {},
   "outputs": [
    {
     "name": "stdout",
     "output_type": "stream",
     "text": [
      "[{'label': 'NEGATIVE', 'score': 0.9994852542877197}]\n"
     ]
    }
   ],
   "source": [
    "text='i am very sad'\n",
    "print(model_pipeline(text))"
   ]
  },
  {
   "cell_type": "code",
   "execution_count": 15,
   "id": "b4a2c6ab-d90f-4702-82ed-8e2212ef9cb2",
   "metadata": {},
   "outputs": [
    {
     "name": "stdout",
     "output_type": "stream",
     "text": [
      "[{'label': 'NEGATIVE', 'score': 0.5683487057685852}]\n"
     ]
    }
   ],
   "source": [
    "text='ja sam nesrećan'\n",
    "print(model_pipeline(text))"
   ]
  },
  {
   "cell_type": "code",
   "execution_count": 16,
   "id": "8183487d-f8b7-4466-9511-75e15b1a7744",
   "metadata": {},
   "outputs": [
    {
     "name": "stdout",
     "output_type": "stream",
     "text": [
      "[{'label': 'POSITIVE', 'score': 0.9706137776374817}]\n"
     ]
    }
   ],
   "source": [
    "text='ja sam vesela'\n",
    "print(model_pipeline(text))"
   ]
  },
  {
   "cell_type": "code",
   "execution_count": 17,
   "id": "8d6ea1cf-e3b4-4280-800e-f2e2aa26c666",
   "metadata": {},
   "outputs": [
    {
     "name": "stdout",
     "output_type": "stream",
     "text": [
      "[{'label': 'NEGATIVE', 'score': 0.9062213897705078}]\n"
     ]
    }
   ],
   "source": [
    "text='danas je hladno'\n",
    "print(model_pipeline(text))"
   ]
  },
  {
   "cell_type": "code",
   "execution_count": null,
   "id": "f482e8b0",
   "metadata": {},
   "outputs": [],
   "source": []
  },
  {
   "cell_type": "code",
   "execution_count": null,
   "id": "0f6c6831-08eb-4d35-9ba9-7a2727cd5b2b",
   "metadata": {},
   "outputs": [],
   "source": []
  }
 ],
 "metadata": {
  "kernelspec": {
   "display_name": "Python 3 (ipykernel)",
   "language": "python",
   "name": "python3"
  },
  "language_info": {
   "codemirror_mode": {
    "name": "ipython",
    "version": 3
   },
   "file_extension": ".py",
   "mimetype": "text/x-python",
   "name": "python",
   "nbconvert_exporter": "python",
   "pygments_lexer": "ipython3",
   "version": "3.9.18"
  }
 },
 "nbformat": 4,
 "nbformat_minor": 5
}
