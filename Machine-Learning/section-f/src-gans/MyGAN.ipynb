{
 "cells": [
  {
   "cell_type": "code",
   "execution_count": null,
   "id": "595a9bce-6682-4bc6-90a5-ad408abed780",
   "metadata": {},
   "outputs": [],
   "source": [
    "import sys"
   ]
  },
  {
   "cell_type": "code",
   "execution_count": null,
   "id": "cd7b9748-de79-407c-a52b-87026002486c",
   "metadata": {},
   "outputs": [],
   "source": [
    "print(print(sys.version))"
   ]
  },
  {
   "cell_type": "code",
   "execution_count": null,
   "id": "ac6c4fd8-1458-460e-9011-3ebae9bc1f86",
   "metadata": {},
   "outputs": [],
   "source": [
    "##!pip install tensorflow_text==2.10.0"
   ]
  },
  {
   "cell_type": "code",
   "execution_count": null,
   "id": "cb138ead-979b-44b4-bbe2-03243025a8c2",
   "metadata": {},
   "outputs": [],
   "source": [
    "##import tensorflow as tf"
   ]
  },
  {
   "cell_type": "code",
   "execution_count": null,
   "id": "fa47a462-b403-4ae2-8ea0-a222ad8dfb8c",
   "metadata": {},
   "outputs": [],
   "source": [
    "##!pip install tensorflow_text==2.10.0"
   ]
  },
  {
   "cell_type": "code",
   "execution_count": null,
   "id": "fe5782cf-88d6-4e50-abcf-ed590ecac506",
   "metadata": {},
   "outputs": [],
   "source": [
    "##import tensorflow_text as text"
   ]
  },
  {
   "cell_type": "code",
   "execution_count": null,
   "id": "41ba228c-12a4-481c-a21d-f21cbdd769af",
   "metadata": {},
   "outputs": [],
   "source": [
    "##from transformers import pipeline"
   ]
  },
  {
   "cell_type": "code",
   "execution_count": null,
   "id": "a159114a-0e0b-442c-864e-7ea7315f7a88",
   "metadata": {},
   "outputs": [],
   "source": [
    "#!pip install torch"
   ]
  },
  {
   "cell_type": "code",
   "execution_count": null,
   "id": "71faab62-c518-463b-8bbf-673c0874e955",
   "metadata": {},
   "outputs": [],
   "source": [
    "#pip install --upgrade torchaudio"
   ]
  },
  {
   "cell_type": "code",
   "execution_count": 1,
   "id": "09fe3ea2-6d4b-481d-ad62-5261155801ef",
   "metadata": {
    "scrolled": true
   },
   "outputs": [],
   "source": [
    "import torch"
   ]
  },
  {
   "cell_type": "code",
   "execution_count": 2,
   "id": "bee564a4-42aa-4a11-8775-02c910b574cd",
   "metadata": {},
   "outputs": [
    {
     "name": "stderr",
     "output_type": "stream",
     "text": [
      "C:\\Users\\pc\\anaconda3\\envs\\Env310\\lib\\site-packages\\tqdm\\auto.py:21: TqdmWarning: IProgress not found. Please update jupyter and ipywidgets. See https://ipywidgets.readthedocs.io/en/stable/user_install.html\n",
      "  from .autonotebook import tqdm as notebook_tqdm\n"
     ]
    }
   ],
   "source": [
    "import transformers"
   ]
  },
  {
   "cell_type": "code",
   "execution_count": 3,
   "id": "29b4a0f6-14d8-458b-bac1-09cb62bc8d4a",
   "metadata": {},
   "outputs": [],
   "source": [
    "from transformers import pipeline"
   ]
  },
  {
   "cell_type": "code",
   "execution_count": 4,
   "id": "7a3f9c6b-e3b9-4e16-8464-ea119b7f7c10",
   "metadata": {},
   "outputs": [],
   "source": [
    "model_id=\"meta-llama/Meta-Llama-3.1-8B-Instruct\""
   ]
  },
  {
   "cell_type": "code",
   "execution_count": 5,
   "id": "018345d9-2d79-4950-a117-97cbc327b8d1",
   "metadata": {},
   "outputs": [
    {
     "name": "stdout",
     "output_type": "stream",
     "text": [
      "The token has not been saved to the git credentials helper. Pass `add_to_git_credential=True` in this function directly or `--add-to-git-credential` if using via `huggingface-cli` if you want to set the git credential as well.\n",
      "Token is valid (permission: fineGrained).\n",
      "Your token has been saved to C:\\Users\\pc\\.cache\\huggingface\\token\n",
      "Login successful\n"
     ]
    }
   ],
   "source": [
    "from huggingface_hub import login\n",
    "\n",
    "# This will prompt for the token within the notebook\n",
    "login(token=\"REDACTED\")"
   ]
  },
  {
   "cell_type": "code",
   "execution_count": null,
   "id": "82f5475f-100e-4765-8219-151f761bda6e",
   "metadata": {},
   "outputs": [],
   "source": [
    "#!pip install huggingface_hub"
   ]
  },
  {
   "cell_type": "code",
   "execution_count": null,
   "id": "e30fb6a9-eaf4-428f-9b8e-ed1e9e0751a9",
   "metadata": {},
   "outputs": [],
   "source": []
  },
  {
   "cell_type": "code",
   "execution_count": null,
   "id": "13060e6f-2a86-4ddb-a2ad-2f16352c6232",
   "metadata": {},
   "outputs": [],
   "source": []
  },
  {
   "cell_type": "code",
   "execution_count": null,
   "id": "f24c227a-f22c-441f-b939-5357bc96ea94",
   "metadata": {},
   "outputs": [],
   "source": [
    "# Load model directly\n",
    "from transformers import AutoTokenizer, AutoModelForCausalLM\n",
    "\n",
    "tokenizer = AutoTokenizer.from_pretrained(\"meta-llama/Llama-3.1-8B-Instruct\")\n",
    "model = AutoModelForCausalLM.from_pretrained(\"meta-llama/Llama-3.1-8B-Instruct\")"
   ]
  },
  {
   "cell_type": "code",
   "execution_count": null,
   "id": "82e62f79-9773-409e-88fd-5eb9f28bc4d5",
   "metadata": {},
   "outputs": [],
   "source": []
  },
  {
   "cell_type": "code",
   "execution_count": null,
   "id": "fcdfd224-87fd-42a9-a71e-1f47b783c1b1",
   "metadata": {},
   "outputs": [],
   "source": []
  },
  {
   "cell_type": "code",
   "execution_count": null,
   "id": "560db74e-c499-464b-9ca6-c7ceba846e2c",
   "metadata": {},
   "outputs": [],
   "source": [
    "model_id=\"G:\\\\LLama3.1\\\\Llama-3.1-8B-Instruct\""
   ]
  },
  {
   "cell_type": "code",
   "execution_count": null,
   "id": "1bc2e6fc-46b1-4ca7-a011-35f84babfc28",
   "metadata": {},
   "outputs": [],
   "source": [
    "messages = [\n",
    "    {\"role\": \"user\", \"content\": \"Who are you?\"},\n",
    "]\n",
    "pipe = pipeline(\"text-generation\", model=model_id)\n",
    "pipe(messages)"
   ]
  },
  {
   "cell_type": "code",
   "execution_count": null,
   "id": "380022b9-92e5-4954-9639-264fc96fbbe6",
   "metadata": {},
   "outputs": [],
   "source": []
  },
  {
   "cell_type": "code",
   "execution_count": null,
   "id": "7556acf1-967f-46f6-97b5-d7c9c5f56e6a",
   "metadata": {},
   "outputs": [],
   "source": []
  },
  {
   "cell_type": "code",
   "execution_count": null,
   "id": "43de910d-fd72-4235-a4c8-5fff544f626c",
   "metadata": {},
   "outputs": [],
   "source": [
    "rope_scaling = {\n",
    "    \"name\": \"linear\",  # Replace \"linear\" with the correct scaling method if needed\n",
    "    \"factor\": 8.0\n",
    "}\n",
    "try:\n",
    "    pipe = pipeline(\n",
    "        \"text-generation\",\n",
    "        model=model_id,\n",
    "        model_kwargs={\n",
    "            \"torch_dtype\": torch.float32,\n",
    "            \"rope_scaling\": rope_scaling  # Ensure this matches required fields\n",
    "        },\n",
    "        device=-1  # Use CPU\n",
    "    )\n",
    "\n",
    "    # Example usage of the pipeline\n",
    "    output = pipe(\"Once upon a time,\")\n",
    "    print(output)\n",
    "\n",
    "except ValueError as e:\n",
    "    print(\"Error:\", e)\n",
    "    print(\"Make sure `rope_scaling` has only the fields 'name' and 'factor'.\")"
   ]
  },
  {
   "cell_type": "code",
   "execution_count": null,
   "id": "9e278b94-e9f6-4771-8877-6855d294841b",
   "metadata": {},
   "outputs": [],
   "source": []
  },
  {
   "cell_type": "code",
   "execution_count": null,
   "id": "088ac880-b6c2-4853-bcf6-474a6fb1177e",
   "metadata": {},
   "outputs": [],
   "source": []
  },
  {
   "cell_type": "code",
   "execution_count": null,
   "id": "fed5b5a1-e6b3-4dd9-8d33-8da1227e1dc1",
   "metadata": {},
   "outputs": [],
   "source": []
  },
  {
   "cell_type": "code",
   "execution_count": null,
   "id": "39ab9901-3b2f-48a7-a1a0-ba10fb05d005",
   "metadata": {},
   "outputs": [],
   "source": []
  },
  {
   "cell_type": "code",
   "execution_count": null,
   "id": "cbb17567-0296-49ea-85cf-d7fd8f8ae57e",
   "metadata": {},
   "outputs": [],
   "source": [
    "#!pip install --upgrade transformers"
   ]
  },
  {
   "cell_type": "code",
   "execution_count": null,
   "id": "48e30a0c-f0fb-49a8-b3af-16201fba6538",
   "metadata": {},
   "outputs": [],
   "source": [
    "#!pip install \"accelerate>=0.26.0\""
   ]
  },
  {
   "cell_type": "code",
   "execution_count": null,
   "id": "57926e73-8581-4033-9c81-9addafdc568d",
   "metadata": {},
   "outputs": [
    {
     "name": "stderr",
     "output_type": "stream",
     "text": [
      "Loading checkpoint shards: 100%|██████████| 4/4 [00:00<00:00, 11.85it/s]\n",
      "Some parameters are on the meta device because they were offloaded to the cpu and disk.\n",
      "Setting `pad_token_id` to `eos_token_id`:None for open-end generation.\n"
     ]
    }
   ],
   "source": [
    "pipeline = transformers.pipeline(\n",
    "    \"text-generation\",\n",
    "    model=model_id,\n",
    "    model_kwargs={\"torch_dtype\": torch.bfloat16},\n",
    "    device_map=\"auto\"\n",
    ")\n",
    "\n",
    "messages = [\n",
    "    {\"role\": \"system\", \"content\": \"You are a pirate chatbot who always responds in pirate speak!\"},\n",
    "    {\"role\": \"user\", \"content\": \"Who are you?\"},\n",
    "]\n",
    "\n",
    "outputs = pipeline(\n",
    "    messages,\n",
    "    max_new_tokens=256,\n",
    ")\n",
    "print(outputs[0][\"generated_text\"][-1])"
   ]
  },
  {
   "cell_type": "code",
   "execution_count": null,
   "id": "d20aa0e3-e1c3-480b-ba3d-88906efcf861",
   "metadata": {},
   "outputs": [],
   "source": []
  }
 ],
 "metadata": {
  "kernelspec": {
   "display_name": "Python 3 (ipykernel)",
   "language": "python",
   "name": "python3"
  },
  "language_info": {
   "codemirror_mode": {
    "name": "ipython",
    "version": 3
   },
   "file_extension": ".py",
   "mimetype": "text/x-python",
   "name": "python",
   "nbconvert_exporter": "python",
   "pygments_lexer": "ipython3",
   "version": "3.10.13"
  }
 },
 "nbformat": 4,
 "nbformat_minor": 5
}
