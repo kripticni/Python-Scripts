{
 "cells": [
  {
   "cell_type": "code",
   "execution_count": 1,
   "id": "fdfc5028-1147-44ad-b981-544a5207d103",
   "metadata": {},
   "outputs": [
    {
     "name": "stderr",
     "output_type": "stream",
     "text": [
      "2024-11-28 19:11:51.902959: I external/local_xla/xla/tsl/cuda/cudart_stub.cc:32] Could not find cuda drivers on your machine, GPU will not be used.\n",
      "2024-11-28 19:11:51.906153: I external/local_xla/xla/tsl/cuda/cudart_stub.cc:32] Could not find cuda drivers on your machine, GPU will not be used.\n",
      "2024-11-28 19:11:51.916573: E external/local_xla/xla/stream_executor/cuda/cuda_fft.cc:477] Unable to register cuFFT factory: Attempting to register factory for plugin cuFFT when one has already been registered\n",
      "WARNING: All log messages before absl::InitializeLog() is called are written to STDERR\n",
      "E0000 00:00:1732817511.934137   28276 cuda_dnn.cc:8310] Unable to register cuDNN factory: Attempting to register factory for plugin cuDNN when one has already been registered\n",
      "E0000 00:00:1732817511.939498   28276 cuda_blas.cc:1418] Unable to register cuBLAS factory: Attempting to register factory for plugin cuBLAS when one has already been registered\n",
      "2024-11-28 19:11:51.957696: I tensorflow/core/platform/cpu_feature_guard.cc:210] This TensorFlow binary is optimized to use available CPU instructions in performance-critical operations.\n",
      "To enable the following instructions: AVX2 FMA, in other operations, rebuild TensorFlow with the appropriate compiler flags.\n"
     ]
    }
   ],
   "source": [
    "import numpy as np\n",
    "from tensorflow.keras.models import Sequential\n",
    "from tensorflow.keras.layers import Embedding, LSTM, Dense\n",
    "from tensorflow.keras.preprocessing.text import Tokenizer\n",
    "from tensorflow.keras.preprocessing.sequence import pad_sequences"
   ]
  },
  {
   "cell_type": "code",
   "execution_count": 13,
   "id": "e4dfce5c-0e56-4463-9f95-8de094175e6f",
   "metadata": {},
   "outputs": [
    {
     "name": "stdout",
     "output_type": "stream",
     "text": [
      "Python version: 3.12.7 | packaged by Anaconda, Inc. | (main, Oct  4 2024, 13:27:36) [GCC 11.2.0]\n",
      "TensorFlow version: 2.18.0\n",
      "NumPy version: 1.26.4\n"
     ]
    }
   ],
   "source": [
    "import sys\n",
    "import tensorflow as tf\n",
    "import numpy as np\n",
    "\n",
    "print(\"Python version:\", sys.version)\n",
    "print(\"TensorFlow version:\", tf.__version__)\n",
    "print(\"NumPy version:\", np.__version__)"
   ]
  },
  {
   "cell_type": "code",
   "execution_count": 2,
   "id": "0291a47a-5704-41f1-a0d3-695294c774ef",
   "metadata": {},
   "outputs": [],
   "source": [
    "# Sample data\n",
    "texts = [\"Ja volim ovo!\", \"Užasno je!\", \"Predivno iskustvo!\", \"Najgori proizvod ikada!\"]\n",
    "labels = [1, 0, 1, 0]  # 1 for positive, 0 for negative"
   ]
  },
  {
   "cell_type": "code",
   "execution_count": 3,
   "id": "f1081cbd-3d40-4531-bd79-5a367410cdc5",
   "metadata": {},
   "outputs": [],
   "source": [
    "import pandas as pd"
   ]
  },
  {
   "cell_type": "code",
   "execution_count": 4,
   "id": "f68d50c4-08aa-4f16-90f0-34d3b0feb296",
   "metadata": {},
   "outputs": [],
   "source": [
    "df = pd.read_csv('sentimentiU.txt', on_bad_lines='skip', sep='\\t', header=None)\n",
    "texts =df[1]\n",
    "labels =df[0]"
   ]
  },
  {
   "cell_type": "code",
   "execution_count": 5,
   "id": "26cc0354-4e3e-42df-8011-3892783668d0",
   "metadata": {},
   "outputs": [
    {
     "data": {
      "text/plain": [
       "0       1\n",
       "1       1\n",
       "2       1\n",
       "3       1\n",
       "4       1\n",
       "       ..\n",
       "2151   -1\n",
       "2152   -1\n",
       "2153    1\n",
       "2154    1\n",
       "2155    1\n",
       "Name: 0, Length: 2156, dtype: int64"
      ]
     },
     "execution_count": 5,
     "metadata": {},
     "output_type": "execute_result"
    }
   ],
   "source": [
    "labels"
   ]
  },
  {
   "cell_type": "code",
   "execution_count": 6,
   "id": "c6543171-99c0-4c66-bfb6-052eef1c9196",
   "metadata": {},
   "outputs": [],
   "source": [
    "# Tokenization and sequence preparation\n",
    "tokenizer = Tokenizer(num_words=1000)  # Use the 1000 most common words\n",
    "tokenizer.fit_on_texts(texts)\n",
    "sequences = tokenizer.texts_to_sequences(texts)\n",
    "word_index = tokenizer.word_index"
   ]
  },
  {
   "cell_type": "code",
   "execution_count": 7,
   "id": "a39b6f0f-76f2-4f1e-a498-543ea1d37620",
   "metadata": {},
   "outputs": [],
   "source": [
    "# Pad sequences to the same length\n",
    "max_length = 5  # Maximum length of a sentence\n",
    "X = pad_sequences(sequences, maxlen=max_length, padding=\"post\")\n",
    "y = np.array(labels)"
   ]
  },
  {
   "cell_type": "code",
   "execution_count": 8,
   "id": "8c0cd99e-86cb-48bc-a268-f1fdde0d8e6b",
   "metadata": {},
   "outputs": [
    {
     "name": "stderr",
     "output_type": "stream",
     "text": [
      "/home/mixie/anaconda3/envs/Env31207/lib/python3.12/site-packages/keras/src/layers/core/embedding.py:90: UserWarning: Argument `input_length` is deprecated. Just remove it.\n",
      "  warnings.warn(\n",
      "2024-11-28 19:11:54.090278: E external/local_xla/xla/stream_executor/cuda/cuda_driver.cc:152] failed call to cuInit: INTERNAL: CUDA error: Failed call to cuInit: UNKNOWN ERROR (303)\n"
     ]
    }
   ],
   "source": [
    "# Model definition\n",
    "model = Sequential([\n",
    "    Embedding(input_dim=1000, output_dim=16, input_length=max_length),  # Embedding layer\n",
    "    LSTM(16),  # LSTM layer\n",
    "    Dense(1, activation=\"sigmoid\")  # Output layer for binary classification\n",
    "])"
   ]
  },
  {
   "cell_type": "code",
   "execution_count": 9,
   "id": "1a19920c-5697-4c1e-8f8d-12f6a03eb163",
   "metadata": {},
   "outputs": [],
   "source": [
    "# Compile the model\n",
    "model.compile(optimizer=\"adam\", loss=\"binary_crossentropy\", metrics=[\"accuracy\"])"
   ]
  },
  {
   "cell_type": "code",
   "execution_count": 10,
   "id": "0865cec4-309e-4146-8def-6c013a312447",
   "metadata": {},
   "outputs": [
    {
     "name": "stdout",
     "output_type": "stream",
     "text": [
      "Epoch 1/10\n",
      "\u001b[1m2156/2156\u001b[0m \u001b[32m━━━━━━━━━━━━━━━━━━━━\u001b[0m\u001b[37m\u001b[0m \u001b[1m7s\u001b[0m 3ms/step - accuracy: 0.2718 - loss: 0.6034\n",
      "Epoch 2/10\n",
      "\u001b[1m2156/2156\u001b[0m \u001b[32m━━━━━━━━━━━━━━━━━━━━\u001b[0m\u001b[37m\u001b[0m \u001b[1m6s\u001b[0m 3ms/step - accuracy: 0.4248 - loss: -0.3137\n",
      "Epoch 3/10\n",
      "\u001b[1m2156/2156\u001b[0m \u001b[32m━━━━━━━━━━━━━━━━━━━━\u001b[0m\u001b[37m\u001b[0m \u001b[1m6s\u001b[0m 3ms/step - accuracy: 0.4634 - loss: -2.4500\n",
      "Epoch 4/10\n",
      "\u001b[1m2156/2156\u001b[0m \u001b[32m━━━━━━━━━━━━━━━━━━━━\u001b[0m\u001b[37m\u001b[0m \u001b[1m6s\u001b[0m 3ms/step - accuracy: 0.5130 - loss: -3.8663\n",
      "Epoch 5/10\n",
      "\u001b[1m2156/2156\u001b[0m \u001b[32m━━━━━━━━━━━━━━━━━━━━\u001b[0m\u001b[37m\u001b[0m \u001b[1m6s\u001b[0m 3ms/step - accuracy: 0.5046 - loss: -6.5878\n",
      "Epoch 6/10\n",
      "\u001b[1m2156/2156\u001b[0m \u001b[32m━━━━━━━━━━━━━━━━━━━━\u001b[0m\u001b[37m\u001b[0m \u001b[1m6s\u001b[0m 3ms/step - accuracy: 0.5287 - loss: -8.5851\n",
      "Epoch 7/10\n",
      "\u001b[1m2156/2156\u001b[0m \u001b[32m━━━━━━━━━━━━━━━━━━━━\u001b[0m\u001b[37m\u001b[0m \u001b[1m6s\u001b[0m 3ms/step - accuracy: 0.5428 - loss: -12.0775\n",
      "Epoch 8/10\n",
      "\u001b[1m2156/2156\u001b[0m \u001b[32m━━━━━━━━━━━━━━━━━━━━\u001b[0m\u001b[37m\u001b[0m \u001b[1m6s\u001b[0m 3ms/step - accuracy: 0.5514 - loss: -16.8932\n",
      "Epoch 9/10\n",
      "\u001b[1m2156/2156\u001b[0m \u001b[32m━━━━━━━━━━━━━━━━━━━━\u001b[0m\u001b[37m\u001b[0m \u001b[1m6s\u001b[0m 3ms/step - accuracy: 0.5287 - loss: -19.1623\n",
      "Epoch 10/10\n",
      "\u001b[1m2156/2156\u001b[0m \u001b[32m━━━━━━━━━━━━━━━━━━━━\u001b[0m\u001b[37m\u001b[0m \u001b[1m6s\u001b[0m 3ms/step - accuracy: 0.5627 - loss: -22.3801\n"
     ]
    },
    {
     "data": {
      "text/plain": [
       "<keras.src.callbacks.history.History at 0x769956647d40>"
      ]
     },
     "execution_count": 10,
     "metadata": {},
     "output_type": "execute_result"
    }
   ],
   "source": [
    "# Train the model\n",
    "model.fit(X, y, epochs=10, batch_size=1)"
   ]
  },
  {
   "cell_type": "code",
   "execution_count": 11,
   "id": "e5440fec-78a4-45f0-81d7-e6fdcd8ed034",
   "metadata": {},
   "outputs": [
    {
     "name": "stdout",
     "output_type": "stream",
     "text": [
      "\u001b[1m1/1\u001b[0m \u001b[32m━━━━━━━━━━━━━━━━━━━━\u001b[0m\u001b[37m\u001b[0m \u001b[1m0s\u001b[0m 137ms/step\n"
     ]
    }
   ],
   "source": [
    "# Test the model\n",
    "#test_texts = [\"mrzi me.\", \"Lepa ti knjiga!\"]\n",
    "test_texts = [\"To je sranje.\", \"Ekstra je!\"]\n",
    "test_sequences = tokenizer.texts_to_sequences(test_texts)\n",
    "X_test = pad_sequences(test_sequences, maxlen=max_length, padding=\"post\")\n",
    "predictions = model.predict(X_test)"
   ]
  },
  {
   "cell_type": "code",
   "execution_count": 12,
   "id": "abb4c229-beab-4231-a4c2-7fdc905544ed",
   "metadata": {},
   "outputs": [
    {
     "name": "stdout",
     "output_type": "stream",
     "text": [
      "Text: 'To je sranje.' pred:[0.] -> Sentiment: Negative\n",
      "Text: 'Ekstra je!' pred:[0.6518593] -> Sentiment: Positive\n"
     ]
    }
   ],
   "source": [
    "# Output predictions\n",
    "for text, pred in zip(test_texts, predictions):\n",
    "    print(f\"Text: '{text}' pred:{pred} -> Sentiment: {'Positive' if pred > 0.5 else 'Negative'}\")"
   ]
  },
  {
   "cell_type": "code",
   "execution_count": null,
   "id": "4591f477-1169-4740-b5e2-0a8c85a65f59",
   "metadata": {},
   "outputs": [],
   "source": []
  },
  {
   "cell_type": "code",
   "execution_count": null,
   "id": "c2de4f0b-9111-4d80-8dcc-7d7cf2432f55",
   "metadata": {},
   "outputs": [],
   "source": []
  }
 ],
 "metadata": {
  "kernelspec": {
   "display_name": "Python 3 (ipykernel)",
   "language": "python",
   "name": "python3"
  },
  "language_info": {
   "codemirror_mode": {
    "name": "ipython",
    "version": 3
   },
   "file_extension": ".py",
   "mimetype": "text/x-python",
   "name": "python",
   "nbconvert_exporter": "python",
   "pygments_lexer": "ipython3",
   "version": "3.12.7"
  }
 },
 "nbformat": 4,
 "nbformat_minor": 5
}
